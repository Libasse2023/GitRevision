{
  "nbformat": 4,
  "nbformat_minor": 0,
  "metadata": {
    "colab": {
      "provenance": []
    },
    "kernelspec": {
      "name": "python3",
      "display_name": "Python 3"
    },
    "language_info": {
      "name": "python"
    }
  },
  "cells": [
    {
      "cell_type": "markdown",
      "source": [
        "# LISTE PRODUITS\n",
        "\n"
      ],
      "metadata": {
        "id": "XxFKfMvnllDf"
      }
    },
    {
      "cell_type": "code",
      "source": [
        "import pandas as pd"
      ],
      "metadata": {
        "id": "VoYdc8scyxqF"
      },
      "execution_count": 4,
      "outputs": []
    },
    {
      "cell_type": "code",
      "source": [
        "#ARTICLES BOUTIQUE\n",
        "ARTICLES={\n",
        "    \"Chemise\":{\n",
        "      \"Marque\" : \"polo\",\n",
        "      \"Prix\" : 1000,\n",
        "      \"En stock\" : 9,\n",
        "      \"Code_Produit\" : 1\n",
        "    },\n",
        "    \"Jean\":{\n",
        "      \"Marque\" : \"levis\",\n",
        "      \"Prix\" : 2000,\n",
        "      \"En stock\" : 12,\n",
        "      \"Code_Produit\" : 2\n",
        "    },\n",
        "    \"Chaussette\":{\n",
        "      \"Marque\" : \"coton\",\n",
        "      \"Prix\" : 300,\n",
        "      \"En stock\" : 30,\n",
        "      \"Code_Produit\" : 3\n",
        "    },\n",
        "    \"Chaussure\":{\n",
        "      \"Marque\" : \"croco\",\n",
        "      \"Prix\" : 15000,\n",
        "      \"En stock\" : 10,\n",
        "      \"Code_Produit\" : 4\n",
        "    }\n",
        "}"
      ],
      "metadata": {
        "id": "cDECBWsDjt7o"
      },
      "execution_count": 3,
      "outputs": []
    },
    {
      "cell_type": "code",
      "source": [
        "ARTICLES.keys()"
      ],
      "metadata": {
        "colab": {
          "base_uri": "https://localhost:8080/"
        },
        "id": "f1pnWKJVQmJ2",
        "outputId": "65a4815c-946c-42b9-b7a0-4a6c3296a0dc"
      },
      "execution_count": 5,
      "outputs": [
        {
          "output_type": "execute_result",
          "data": {
            "text/plain": [
              "dict_keys(['Chemise', 'Jean', 'Chaussette', 'Chaussure'])"
            ]
          },
          "metadata": {},
          "execution_count": 5
        }
      ]
    },
    {
      "cell_type": "markdown",
      "source": [
        "# BOUTIQUES"
      ],
      "metadata": {
        "id": "O1dB_HtQqOzJ"
      }
    },
    {
      "cell_type": "code",
      "source": [
        "# créer un tuple pour récupérer les nom d'articles à partir des index\n",
        "liste_articles = (\"Chemise\",\"Jean\",\"Chaussette\",\"Chaussure\")\n",
        "LA=liste_articles"
      ],
      "metadata": {
        "id": "i7UIcdLjm64v"
      },
      "execution_count": 6,
      "outputs": []
    },
    {
      "cell_type": "code",
      "source": [
        "#print(LA)\n",
        "LA[2]"
      ],
      "metadata": {
        "colab": {
          "base_uri": "https://localhost:8080/",
          "height": 36
        },
        "id": "tiGih9sjnf7W",
        "outputId": "d9256062-cc7e-4cf3-e040-21e00f66e732"
      },
      "execution_count": 7,
      "outputs": [
        {
          "output_type": "execute_result",
          "data": {
            "text/plain": [
              "'Chaussette'"
            ],
            "application/vnd.google.colaboratory.intrinsic+json": {
              "type": "string"
            }
          },
          "metadata": {},
          "execution_count": 7
        }
      ]
    },
    {
      "cell_type": "code",
      "source": [
        "# lister aux client les différents articles\n",
        "for i in ARTICLES.keys():\n",
        "  print(i)"
      ],
      "metadata": {
        "colab": {
          "base_uri": "https://localhost:8080/"
        },
        "id": "NDzEhpc9sm-5",
        "outputId": "3dbc2098-a1e8-46af-d844-1aa665eee117"
      },
      "execution_count": 8,
      "outputs": [
        {
          "output_type": "stream",
          "name": "stdout",
          "text": [
            "Chemise\n",
            "Jean\n",
            "Chaussette\n",
            "Chaussure\n"
          ]
        }
      ]
    },
    {
      "cell_type": "markdown",
      "source": [
        "# LISTE ACHATS"
      ],
      "metadata": {
        "id": "YLgbNmQZuBrn"
      }
    },
    {
      "cell_type": "code",
      "source": [
        "# demander au client de piocher le numéro de l'article souhaité\n",
        "for i in ARTICLES.keys():\n",
        "  print(\"P n°\" + str(ARTICLES[i]['Code_Produit']) + \"\\n\", i)\n",
        "#\n",
        "panier = 0\n",
        "nouvel_achat = 1\n",
        "while nouvel_achat < 2:\n",
        "  if nouvel_achat < 2:\n",
        "    dernier_panier = panier\n",
        "    choix_produit = int(input(\"saisir le n° du produit pour l'ajouter à votre panier ! \"))\n",
        "    nom_produit = LA[choix_produit-1]\n",
        "    print(nom_produit)\n",
        "    prix_produit = ARTICLES[nom_produit][\"Prix\"]\n",
        "    print(ARTICLES[nom_produit])\n",
        "    # #print(LA[choix_produit])\n",
        "    # # demander au client la quantité\n",
        "    choix_quantité = int(input(\"saisir la quantité souhaitée selon le stock disponible ! \"))\n",
        "    # vérifier que2 la quantité est inf ou égale au stcok dispo\n",
        "    print(\"vous avez choisi \" + str(choix_quantité) + \"/\"+ str(ARTICLES[nom_produit][\"En stock\"]) + \" pièces disponibles\")\n",
        "    panier = choix_quantité * prix_produit\n",
        "    print(\"votre nouvel achat est de \" + str(panier) + \" FCFA\")\n",
        "    facture = panier + dernier_panier\n",
        "    print(\"votre panier TOTAL est de  \" + str(facture) + \" FCFA\")\n",
        "    # proposer un autre choix ou passer à la caisse\n",
        "    nouvel_achat = int(input(\"pour un nouvel achat faire OUI = 1 et NON = 2 \"))\n",
        "print(\"le montant de votre facture est de \" + str(facture)+\" FCFA\")\n",
        "\n",
        "# s'assurer que le client sélection un produit disponible et en quantité\n",
        "# conditionner le choix oui ou non d'un nouvel achat"
      ],
      "metadata": {
        "id": "D9Y2R4A4qdLt",
        "colab": {
          "base_uri": "https://localhost:8080/"
        },
        "outputId": "1010ff7c-991e-4a51-c220-0e0b7d107dd3"
      },
      "execution_count": 10,
      "outputs": [
        {
          "output_type": "stream",
          "name": "stdout",
          "text": [
            "P n°1\n",
            " Chemise\n",
            "P n°2\n",
            " Jean\n",
            "P n°3\n",
            " Chaussette\n",
            "P n°4\n",
            " Chaussure\n",
            "saisir le n° du produit pour l'ajouter à votre panier ! 1\n",
            "Chemise\n",
            "{'Marque': 'polo', 'Prix': 1000, 'En stock': 9, 'Code_Produit': 1}\n",
            "saisir la quantité souhaitée selon le stock disponible ! 2\n",
            "vous avez choisi 2/9 pièces disponibles\n",
            "votre nouvel achat est de 2000 FCFA\n",
            "votre panier TOTAL est de  2000 FCFA\n",
            "pour un nouvel achat faire OUI = 1 et NON = 2 1\n",
            "saisir le n° du produit pour l'ajouter à votre panier ! 2\n",
            "Jean\n",
            "{'Marque': 'levis', 'Prix': 2000, 'En stock': 12, 'Code_Produit': 2}\n",
            "saisir la quantité souhaitée selon le stock disponible ! 2\n",
            "vous avez choisi 2/12 pièces disponibles\n",
            "votre nouvel achat est de 4000 FCFA\n",
            "votre panier TOTAL est de  6000 FCFA\n",
            "pour un nouvel achat faire OUI = 1 et NON = 2 2\n",
            "le montant de votre facture est de 6000 FCFA\n"
          ]
        }
      ]
    },
    {
      "cell_type": "markdown",
      "source": [
        "# COMPTES CLIENTS BANK"
      ],
      "metadata": {
        "id": "s-TITwoXpwQR"
      }
    },
    {
      "cell_type": "code",
      "source": [
        "# client bank\n",
        "BANK_GROUP={\n",
        "    \"CLIENT1_COMPTE\":{\n",
        "      \"prenom\" : \"momo\",\n",
        "      \"nom\" : \"RANGE\",\n",
        "      \"mdp\" : 212,\n",
        "      \"solde\" : 100000\n",
        "    },\n",
        "    \"BOUTIQUE_COMPTE\":{\n",
        "      \"nom\" : \"b_royal\",\n",
        "      \"code_b\" : 212,\n",
        "      \"solde\" : 500000\n",
        "    }\n",
        "}"
      ],
      "metadata": {
        "id": "dG0Ri7EOiu_D"
      },
      "execution_count": 11,
      "outputs": []
    },
    {
      "cell_type": "markdown",
      "source": [
        "# FACTURE"
      ],
      "metadata": {
        "id": "89RvqQqZuQOv"
      }
    },
    {
      "cell_type": "code",
      "source": [
        "\n",
        "\n",
        "\n",
        "\n",
        "\n",
        "\n",
        "\n"
      ],
      "metadata": {
        "id": "RkOqfIsuxq5u"
      },
      "execution_count": 47,
      "outputs": []
    },
    {
      "cell_type": "markdown",
      "source": [
        "# PAIEMENT FACTURE"
      ],
      "metadata": {
        "id": "JKfyOT9MK1i1"
      }
    },
    {
      "cell_type": "code",
      "source": [
        "# CLIENT1_COMPTE\n",
        "\n",
        "# valider le paiemet du client\n",
        "paiement = 0\n",
        "choix_paiement = int(input (\"souhaitez vous régler votre facture de \" + str(facture)+\" FCFA\" \" ? choisir : oui = 1 / non = 0 : \"))\n",
        "while paiement < 1:\n",
        "  if choix_paiement == 1:\n",
        "    id_payeur = input(\"Veuillez renseigner votre identifiant payeur !\")\n",
        "    mdp = int(input(\"veuillez entrer votre mdp pour finaliser la transaction \"))\n",
        "    paiement = 2\n",
        "  elif choix_paiement == 0:\n",
        "    paiement = 2\n",
        "    print(\"Merci Cher client pour votre passage\" + \"\\n\" + \"A la prochaine !\")\n",
        "  elif choix_paiement > 1:\n",
        "    paiement = 0\n",
        "    print(\"Vous devez faire un choix valide entre 1 pour valider et 0 pour annuler\")\n",
        "    choix_paiement = int(input (\"souhaitez vous régler la facture ? choisir : oui = 1 / non = 0 : \"))\n"
      ],
      "metadata": {
        "colab": {
          "base_uri": "https://localhost:8080/"
        },
        "id": "FxkrRD4BywCX",
        "outputId": "73a102d6-94ab-4321-da03-c0c92efd99b5"
      },
      "execution_count": 13,
      "outputs": [
        {
          "name": "stdout",
          "output_type": "stream",
          "text": [
            "souhaitez vous régler votre facture de 6000 FCFA ? choisir : oui = 1 / non = 0 : 2\n",
            "Vous devez faire un choix valide entre 1 pour valider et 0 pour annuler\n",
            "souhaitez vous régler la facture ? choisir : oui = 1 / non = 0 : 1\n",
            "Veuillez renseigner votre identifiant payeur !CLIENT1_COMPTE\n",
            "veuillez entrer votre mdp pour finaliser la transaction 211\n"
          ]
        }
      ]
    },
    {
      "cell_type": "code",
      "source": [
        "\n",
        "\n"
      ],
      "metadata": {
        "id": "d7hVyq3b-IHi"
      },
      "execution_count": 14,
      "outputs": []
    },
    {
      "cell_type": "code",
      "source": [
        "paiement_effectué = 0\n",
        "while paiement_effectué < 1:\n",
        "  # controler les identifiants de\n",
        "  ancien_solde = BANK_GROUP[id_payeur]['solde']\n",
        "  ancien_solde\n",
        "  facture\n",
        "  nouveau_solde = ancien_solde - facture\n",
        "  # sinon du paiement impossible pour défaut de solde\n",
        "  if nouveau_solde < 0 and id_payeur in BANK_GROUP and mdp == BANK_GROUP[id_payeur]['mdp']:\n",
        "    print(\"votre solde client est inférieur au montant de la facture\")\n",
        "    print(\"Merci Cher client pour votre passage\" + \"\\n\" + \"A la prochaine !\")\n",
        "    paiement_effectué = 1\n",
        "\n",
        "  elif nouveau_solde > 0 and id_payeur in BANK_GROUP and mdp == BANK_GROUP[id_payeur]['mdp']:\n",
        "\n",
        "  # stocker l'ancien solde client dans une variable\n",
        "    ancien_solde = BANK_GROUP[id_payeur]['solde']\n",
        "\n",
        "  # afficher l'ancien solde client\n",
        "    print(\"votre ancien solde est de \" + str(ancien_solde) + \" CFA\")\n",
        "\n",
        "  # calculer nouveau solde client\n",
        "    nouveau_solde = ancien_solde - facture\n",
        "\n",
        "  # afficher le nouveau solde client\n",
        "    print(\"votre nouveau solde est de \" + str(nouveau_solde) + \" CFA\")\n",
        "\n",
        "  # effectuer la régularisationi du compte client\n",
        "    BANK_GROUP[id_payeur]['solde'] = nouveau_solde\n",
        "\n",
        "\n",
        "    paiement_effectué = 1\n",
        "\n",
        "  elif id_payeur not in BANK_GROUP or mdp != BANK_GROUP[id_payeur]['mdp']:\n",
        "    print(\"Cet identifiant ou mot de de passe n'est pas reconnu, veuillez saisir à nouveau \")\n",
        "    paiement_effectué = 0\n",
        "    id_payeur = input(\"Veuillez renseigner votre identifiant payeur !\")\n",
        "    mdp = int(input(\"veuillez entrer votre mdp pour finaliser la transaction \"))\n",
        "\n",
        "\n"
      ],
      "metadata": {
        "colab": {
          "base_uri": "https://localhost:8080/"
        },
        "id": "Q_Vi7E1UKy2c",
        "outputId": "53ebf380-0ca6-4300-a2fc-f83a4da32db5"
      },
      "execution_count": 15,
      "outputs": [
        {
          "output_type": "stream",
          "name": "stdout",
          "text": [
            "Cet identifiant ou mot de de passe n'est pas reconnu, veuillez saisir à nouveau \n",
            "Veuillez renseigner votre identifiant payeur !CLIENT1_COMPTE\n",
            "veuillez entrer votre mdp pour finaliser la transaction 212\n",
            "votre ancien solde est de 100000 CFA\n",
            "votre nouveau solde est de 94000 CFA\n"
          ]
        }
      ]
    },
    {
      "cell_type": "code",
      "source": [
        "# effectuer la régularisationi du compte commerçant\n",
        "BANK_GROUP[\"BOUTIQUE_COMPTE\"]['solde'] = BANK_GROUP[\"BOUTIQUE_COMPTE\"]['solde'] + facture\n",
        "ns_commerçant = BANK_GROUP[\"BOUTIQUE_COMPTE\"]['solde']\n",
        "# afficher le nouveau solde commerçant\n",
        "print(\"le nouveau solde commerçant est \" + str(ns_commerçant) + \" FCFA\")"
      ],
      "metadata": {
        "colab": {
          "base_uri": "https://localhost:8080/"
        },
        "id": "RiEhVuw3LaPG",
        "outputId": "f352de49-abd2-4470-95ba-c765789f6994"
      },
      "execution_count": 17,
      "outputs": [
        {
          "output_type": "stream",
          "name": "stdout",
          "text": [
            "le nouveau solde commerçant est 506000 FCFA\n"
          ]
        }
      ]
    }
  ]
}